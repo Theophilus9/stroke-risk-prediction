{
 "cells": [
  {
   "cell_type": "code",
   "execution_count": 2,
   "id": "e3d318f7",
   "metadata": {},
   "outputs": [
    {
     "name": "stdout",
     "output_type": "stream",
     "text": [
      "--- id ---\n",
      "Min: 67, Max: 72940\n",
      "\n",
      "--- gender ---\n",
      "Unique values: ['Male' 'Female' 'Other']\n",
      "\n",
      "--- age ---\n",
      "Min: 0.08, Max: 82.0\n",
      "\n",
      "--- hypertension ---\n",
      "Min: 0, Max: 1\n",
      "\n",
      "--- heart_disease ---\n",
      "Min: 0, Max: 1\n",
      "\n",
      "--- ever_married ---\n",
      "Unique values: ['Yes' 'No']\n",
      "\n",
      "--- work_type ---\n",
      "Unique values: ['Private' 'Self-employed' 'Govt_job' 'children' 'Never_worked']\n",
      "\n",
      "--- Residence_type ---\n",
      "Unique values: ['Urban' 'Rural']\n",
      "\n",
      "--- avg_glucose_level ---\n",
      "Min: 55.12, Max: 271.74\n",
      "\n",
      "--- bmi ---\n",
      "Min: 10.3, Max: 97.6\n",
      "\n",
      "--- smoking_status ---\n",
      "Unique values: ['formerly smoked' 'never smoked' 'smokes' 'Unknown']\n",
      "\n",
      "--- stroke ---\n",
      "Min: 0, Max: 1\n",
      "\n"
     ]
    }
   ],
   "source": [
    "import pandas as pd\n",
    "\n",
    "# Load your CSV file\n",
    "df = pd.read_csv(r\"healthcare-dataset-stroke-data.csv\")  # Replace with your actual CSV filename\n",
    "\n",
    "for column in df.columns:\n",
    "    print(f\"--- {column} ---\")\n",
    "    \n",
    "    if pd.api.types.is_numeric_dtype(df[column]):\n",
    "        print(f\"Min: {df[column].min()}, Max: {df[column].max()}\")\n",
    "    else:\n",
    "        print(\"Unique values:\", df[column].unique())\n",
    "    \n",
    "    print()\n"
   ]
  }
 ],
 "metadata": {
  "kernelspec": {
   "display_name": "Python 3",
   "language": "python",
   "name": "python3"
  },
  "language_info": {
   "codemirror_mode": {
    "name": "ipython",
    "version": 3
   },
   "file_extension": ".py",
   "mimetype": "text/x-python",
   "name": "python",
   "nbconvert_exporter": "python",
   "pygments_lexer": "ipython3",
   "version": "3.13.2"
  }
 },
 "nbformat": 4,
 "nbformat_minor": 5
}
